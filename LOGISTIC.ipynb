{
 "cells": [
  {
   "cell_type": "code",
   "execution_count": 49,
   "id": "ec5727ef-44b8-42f7-b44b-a117b513986a",
   "metadata": {},
   "outputs": [],
   "source": [
    "#loading libraries\n",
    "import pandas as pd\n",
    "from sklearn.model_selection import train_test_split\n",
    "from sklearn.preprocessing import StandardScaler\n",
    "from sklearn.linear_model import LogisticRegression"
   ]
  },
  {
   "cell_type": "code",
   "execution_count": 51,
   "id": "679b0a45-15d6-42cc-aa92-58324d701a93",
   "metadata": {},
   "outputs": [],
   "source": [
    "#loading dataset\n",
    "df=pd.read_csv('C:/Users/thama/Downloads/Heart (1).csv')\n",
    "df\n",
    "df=df.drop(columns ='Unnamed: 0')\n",
    "df['ChestPain']=df['ChestPain'].astype('category')\n",
    "df['ChestPain'] = df['ChestPain'].cat.codes\n",
    "df['Thal']=df['Thal'].astype('category')\n",
    "df['Thal'] = df['Thal'].cat.codes\n",
    "df['AHD']=df['AHD'].astype('category')\n",
    "df['AHD'] = df['AHD'].cat.codes"
   ]
  },
  {
   "cell_type": "code",
   "execution_count": 53,
   "id": "c22ecbf4-613d-4dfd-bb82-b808208f88a0",
   "metadata": {},
   "outputs": [],
   "source": [
    "df.isnull().sum()\n",
    "df=df.dropna()\n",
    "df\n",
    "X=df.drop(columns='AHD')\n",
    "X\n",
    "Y=df['AHD']"
   ]
  },
  {
   "cell_type": "code",
   "execution_count": 55,
   "id": "5b989293-1c25-400d-8073-227c84ab434b",
   "metadata": {},
   "outputs": [],
   "source": [
    "X_train, X_test, Y_train, Y_test = train_test_split(X,Y,test_size=0.3,random_state=25)\n",
    "X_train, X_test, Y_train, Y_test\n",
    "scalar= StandardScaler()\n",
    "X_train_scaled=scalar.fit_transform(X_train)\n",
    "X_test_scaled = scalar.transform(X_test)\n"
   ]
  },
  {
   "cell_type": "code",
   "execution_count": 57,
   "id": "3a34ef47-1685-434d-b0b0-1484172f38df",
   "metadata": {},
   "outputs": [
    {
     "data": {
      "text/plain": [
       "0.8516746411483254"
      ]
     },
     "execution_count": 57,
     "metadata": {},
     "output_type": "execute_result"
    }
   ],
   "source": [
    "log_reg=  LogisticRegression(random_state=0).fit(X_train_scaled,Y_train)\n",
    "log_reg.predict(X_train_scaled)\n",
    "log_reg.score(X_train_scaled,Y_train)\n"
   ]
  },
  {
   "cell_type": "code",
   "execution_count": 61,
   "id": "da0b114e-48bf-4535-951e-f7ce034c823f",
   "metadata": {},
   "outputs": [
    {
     "data": {
      "text/plain": [
       "0.8666666666666667"
      ]
     },
     "execution_count": 61,
     "metadata": {},
     "output_type": "execute_result"
    }
   ],
   "source": [
    "\n",
    "log_reg.score(X_test_scaled ,Y_test)"
   ]
  },
  {
   "cell_type": "code",
   "execution_count": null,
   "id": "c53ebe96-1892-4d39-89b2-4764513f0237",
   "metadata": {},
   "outputs": [],
   "source": []
  }
 ],
 "metadata": {
  "kernelspec": {
   "display_name": "Python 3 (ipykernel)",
   "language": "python",
   "name": "python3"
  },
  "language_info": {
   "codemirror_mode": {
    "name": "ipython",
    "version": 3
   },
   "file_extension": ".py",
   "mimetype": "text/x-python",
   "name": "python",
   "nbconvert_exporter": "python",
   "pygments_lexer": "ipython3",
   "version": "3.12.4"
  }
 },
 "nbformat": 4,
 "nbformat_minor": 5
}
